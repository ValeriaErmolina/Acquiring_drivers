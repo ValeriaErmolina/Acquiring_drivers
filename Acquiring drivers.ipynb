{
 "cells": [
  {
   "cell_type": "code",
   "execution_count": 383,
   "metadata": {},
   "outputs": [],
   "source": [
    "import pandas as pd"
   ]
  },
  {
   "cell_type": "code",
   "execution_count": 384,
   "metadata": {},
   "outputs": [],
   "source": [
    "df = pd.read_csv('set_for_acq_dr 1.csv')"
   ]
  },
  {
   "cell_type": "code",
   "execution_count": 385,
   "metadata": {},
   "outputs": [
    {
     "data": {
      "text/html": [
       "<div>\n",
       "<style scoped>\n",
       "    .dataframe tbody tr th:only-of-type {\n",
       "        vertical-align: middle;\n",
       "    }\n",
       "\n",
       "    .dataframe tbody tr th {\n",
       "        vertical-align: top;\n",
       "    }\n",
       "\n",
       "    .dataframe thead th {\n",
       "        text-align: right;\n",
       "    }\n",
       "</style>\n",
       "<table border=\"1\" class=\"dataframe\">\n",
       "  <thead>\n",
       "    <tr style=\"text-align: right;\">\n",
       "      <th></th>\n",
       "      <th>report_date</th>\n",
       "      <th>segment</th>\n",
       "      <th>region</th>\n",
       "      <th>fact_progn</th>\n",
       "      <th>tranth_tst</th>\n",
       "      <th>dollar</th>\n",
       "      <th>dol_rab_ter</th>\n",
       "      <th>dol_sn_nal</th>\n",
       "      <th>rab_dney</th>\n",
       "      <th>atm</th>\n",
       "      <th>cards</th>\n",
       "      <th>compl</th>\n",
       "    </tr>\n",
       "  </thead>\n",
       "  <tbody>\n",
       "    <tr>\n",
       "      <th>0</th>\n",
       "      <td>31.01.2013</td>\n",
       "      <td>S_1</td>\n",
       "      <td>RG_1</td>\n",
       "      <td>fact</td>\n",
       "      <td>16.936794</td>\n",
       "      <td>30.03</td>\n",
       "      <td>0.919774</td>\n",
       "      <td>0.371817</td>\n",
       "      <td>17</td>\n",
       "      <td>639.0</td>\n",
       "      <td>NaN</td>\n",
       "      <td>0.998736</td>\n",
       "    </tr>\n",
       "    <tr>\n",
       "      <th>1</th>\n",
       "      <td>31.01.2013</td>\n",
       "      <td>S_1</td>\n",
       "      <td>RG_10</td>\n",
       "      <td>fact</td>\n",
       "      <td>8.372162</td>\n",
       "      <td>30.03</td>\n",
       "      <td>0.949845</td>\n",
       "      <td>0.497901</td>\n",
       "      <td>17</td>\n",
       "      <td>183.0</td>\n",
       "      <td>NaN</td>\n",
       "      <td>0.998759</td>\n",
       "    </tr>\n",
       "    <tr>\n",
       "      <th>2</th>\n",
       "      <td>31.01.2013</td>\n",
       "      <td>S_1</td>\n",
       "      <td>RG_11</td>\n",
       "      <td>fact</td>\n",
       "      <td>86.682028</td>\n",
       "      <td>30.03</td>\n",
       "      <td>NaN</td>\n",
       "      <td>NaN</td>\n",
       "      <td>17</td>\n",
       "      <td>16.5</td>\n",
       "      <td>NaN</td>\n",
       "      <td>NaN</td>\n",
       "    </tr>\n",
       "    <tr>\n",
       "      <th>3</th>\n",
       "      <td>31.01.2013</td>\n",
       "      <td>S_1</td>\n",
       "      <td>RG_12</td>\n",
       "      <td>fact</td>\n",
       "      <td>8.700791</td>\n",
       "      <td>30.03</td>\n",
       "      <td>0.899030</td>\n",
       "      <td>0.502970</td>\n",
       "      <td>17</td>\n",
       "      <td>436.5</td>\n",
       "      <td>NaN</td>\n",
       "      <td>0.998721</td>\n",
       "    </tr>\n",
       "    <tr>\n",
       "      <th>4</th>\n",
       "      <td>31.01.2013</td>\n",
       "      <td>S_1</td>\n",
       "      <td>RG_13</td>\n",
       "      <td>fact</td>\n",
       "      <td>4.682460</td>\n",
       "      <td>30.03</td>\n",
       "      <td>0.927184</td>\n",
       "      <td>0.502216</td>\n",
       "      <td>17</td>\n",
       "      <td>132.0</td>\n",
       "      <td>NaN</td>\n",
       "      <td>0.998742</td>\n",
       "    </tr>\n",
       "  </tbody>\n",
       "</table>\n",
       "</div>"
      ],
      "text/plain": [
       "  report_date segment region fact_progn  tranth_tst  dollar  dol_rab_ter  \\\n",
       "0  31.01.2013     S_1   RG_1       fact   16.936794   30.03     0.919774   \n",
       "1  31.01.2013     S_1  RG_10       fact    8.372162   30.03     0.949845   \n",
       "2  31.01.2013     S_1  RG_11       fact   86.682028   30.03          NaN   \n",
       "3  31.01.2013     S_1  RG_12       fact    8.700791   30.03     0.899030   \n",
       "4  31.01.2013     S_1  RG_13       fact    4.682460   30.03     0.927184   \n",
       "\n",
       "   dol_sn_nal  rab_dney    atm  cards     compl  \n",
       "0    0.371817        17  639.0    NaN  0.998736  \n",
       "1    0.497901        17  183.0    NaN  0.998759  \n",
       "2         NaN        17   16.5    NaN       NaN  \n",
       "3    0.502970        17  436.5    NaN  0.998721  \n",
       "4    0.502216        17  132.0    NaN  0.998742  "
      ]
     },
     "execution_count": 385,
     "metadata": {},
     "output_type": "execute_result"
    }
   ],
   "source": [
    "df.head()"
   ]
  },
  {
   "cell_type": "code",
   "execution_count": 386,
   "metadata": {},
   "outputs": [
    {
     "name": "stdout",
     "output_type": "stream",
     "text": [
      "<class 'pandas.core.frame.DataFrame'>\n",
      "RangeIndex: 21392 entries, 0 to 21391\n",
      "Data columns (total 12 columns):\n",
      " #   Column       Non-Null Count  Dtype  \n",
      "---  ------       --------------  -----  \n",
      " 0   report_date  21392 non-null  object \n",
      " 1   segment      21392 non-null  object \n",
      " 2   region       21392 non-null  object \n",
      " 3   fact_progn   21392 non-null  object \n",
      " 4   tranth_tst   21392 non-null  float64\n",
      " 5   dollar       21029 non-null  float64\n",
      " 6   dol_rab_ter  20996 non-null  float64\n",
      " 7   dol_sn_nal   20996 non-null  float64\n",
      " 8   rab_dney     21392 non-null  int64  \n",
      " 9   atm          21391 non-null  float64\n",
      " 10  cards        13041 non-null  float64\n",
      " 11  compl        20996 non-null  float64\n",
      "dtypes: float64(7), int64(1), object(4)\n",
      "memory usage: 2.0+ MB\n"
     ]
    }
   ],
   "source": [
    "df.info()"
   ]
  },
  {
   "cell_type": "code",
   "execution_count": 387,
   "metadata": {},
   "outputs": [
    {
     "data": {
      "text/plain": [
       "report_date       0\n",
       "segment           0\n",
       "region            0\n",
       "fact_progn        0\n",
       "tranth_tst        0\n",
       "dollar          363\n",
       "dol_rab_ter     396\n",
       "dol_sn_nal      396\n",
       "rab_dney          0\n",
       "atm               1\n",
       "cards          8351\n",
       "compl           396\n",
       "dtype: int64"
      ]
     },
     "execution_count": 387,
     "metadata": {},
     "output_type": "execute_result"
    }
   ],
   "source": [
    "df.isnull().sum()"
   ]
  },
  {
   "cell_type": "code",
   "execution_count": 388,
   "metadata": {},
   "outputs": [
    {
     "data": {
      "text/html": [
       "<div>\n",
       "<style scoped>\n",
       "    .dataframe tbody tr th:only-of-type {\n",
       "        vertical-align: middle;\n",
       "    }\n",
       "\n",
       "    .dataframe tbody tr th {\n",
       "        vertical-align: top;\n",
       "    }\n",
       "\n",
       "    .dataframe thead th {\n",
       "        text-align: right;\n",
       "    }\n",
       "</style>\n",
       "<table border=\"1\" class=\"dataframe\">\n",
       "  <thead>\n",
       "    <tr style=\"text-align: right;\">\n",
       "      <th></th>\n",
       "      <th>report_date</th>\n",
       "      <th>segment</th>\n",
       "      <th>region</th>\n",
       "      <th>fact_progn</th>\n",
       "      <th>tranth_tst</th>\n",
       "      <th>dollar</th>\n",
       "      <th>dol_rab_ter</th>\n",
       "      <th>dol_sn_nal</th>\n",
       "      <th>rab_dney</th>\n",
       "      <th>atm</th>\n",
       "      <th>cards</th>\n",
       "      <th>compl</th>\n",
       "    </tr>\n",
       "  </thead>\n",
       "  <tbody>\n",
       "    <tr>\n",
       "      <th>0</th>\n",
       "      <td>31.01.2013</td>\n",
       "      <td>S_1</td>\n",
       "      <td>RG_1</td>\n",
       "      <td>fact</td>\n",
       "      <td>16.936794</td>\n",
       "      <td>30.03</td>\n",
       "      <td>0.919774</td>\n",
       "      <td>0.371817</td>\n",
       "      <td>17</td>\n",
       "      <td>639.0</td>\n",
       "      <td>NaN</td>\n",
       "      <td>0.998736</td>\n",
       "    </tr>\n",
       "    <tr>\n",
       "      <th>1</th>\n",
       "      <td>31.01.2013</td>\n",
       "      <td>S_1</td>\n",
       "      <td>RG_10</td>\n",
       "      <td>fact</td>\n",
       "      <td>8.372162</td>\n",
       "      <td>30.03</td>\n",
       "      <td>0.949845</td>\n",
       "      <td>0.497901</td>\n",
       "      <td>17</td>\n",
       "      <td>183.0</td>\n",
       "      <td>NaN</td>\n",
       "      <td>0.998759</td>\n",
       "    </tr>\n",
       "    <tr>\n",
       "      <th>2</th>\n",
       "      <td>31.01.2013</td>\n",
       "      <td>S_1</td>\n",
       "      <td>RG_11</td>\n",
       "      <td>fact</td>\n",
       "      <td>86.682028</td>\n",
       "      <td>30.03</td>\n",
       "      <td>NaN</td>\n",
       "      <td>NaN</td>\n",
       "      <td>17</td>\n",
       "      <td>16.5</td>\n",
       "      <td>NaN</td>\n",
       "      <td>NaN</td>\n",
       "    </tr>\n",
       "    <tr>\n",
       "      <th>3</th>\n",
       "      <td>31.01.2013</td>\n",
       "      <td>S_1</td>\n",
       "      <td>RG_12</td>\n",
       "      <td>fact</td>\n",
       "      <td>8.700791</td>\n",
       "      <td>30.03</td>\n",
       "      <td>0.899030</td>\n",
       "      <td>0.502970</td>\n",
       "      <td>17</td>\n",
       "      <td>436.5</td>\n",
       "      <td>NaN</td>\n",
       "      <td>0.998721</td>\n",
       "    </tr>\n",
       "    <tr>\n",
       "      <th>4</th>\n",
       "      <td>31.01.2013</td>\n",
       "      <td>S_1</td>\n",
       "      <td>RG_13</td>\n",
       "      <td>fact</td>\n",
       "      <td>4.682460</td>\n",
       "      <td>30.03</td>\n",
       "      <td>0.927184</td>\n",
       "      <td>0.502216</td>\n",
       "      <td>17</td>\n",
       "      <td>132.0</td>\n",
       "      <td>NaN</td>\n",
       "      <td>0.998742</td>\n",
       "    </tr>\n",
       "    <tr>\n",
       "      <th>...</th>\n",
       "      <td>...</td>\n",
       "      <td>...</td>\n",
       "      <td>...</td>\n",
       "      <td>...</td>\n",
       "      <td>...</td>\n",
       "      <td>...</td>\n",
       "      <td>...</td>\n",
       "      <td>...</td>\n",
       "      <td>...</td>\n",
       "      <td>...</td>\n",
       "      <td>...</td>\n",
       "      <td>...</td>\n",
       "    </tr>\n",
       "    <tr>\n",
       "      <th>21387</th>\n",
       "      <td>31.12.2017</td>\n",
       "      <td>S_5</td>\n",
       "      <td>RG_82</td>\n",
       "      <td>fact</td>\n",
       "      <td>31.020205</td>\n",
       "      <td>57.60</td>\n",
       "      <td>0.951352</td>\n",
       "      <td>0.217672</td>\n",
       "      <td>21</td>\n",
       "      <td>670.5</td>\n",
       "      <td>1467051.256</td>\n",
       "      <td>0.997520</td>\n",
       "    </tr>\n",
       "    <tr>\n",
       "      <th>21388</th>\n",
       "      <td>31.12.2017</td>\n",
       "      <td>S_5</td>\n",
       "      <td>RG_83</td>\n",
       "      <td>fact</td>\n",
       "      <td>15.959186</td>\n",
       "      <td>57.60</td>\n",
       "      <td>0.945750</td>\n",
       "      <td>0.291780</td>\n",
       "      <td>21</td>\n",
       "      <td>817.5</td>\n",
       "      <td>1872662.200</td>\n",
       "      <td>0.997512</td>\n",
       "    </tr>\n",
       "    <tr>\n",
       "      <th>21389</th>\n",
       "      <td>31.12.2017</td>\n",
       "      <td>S_5</td>\n",
       "      <td>RG_84</td>\n",
       "      <td>fact</td>\n",
       "      <td>27.261878</td>\n",
       "      <td>57.60</td>\n",
       "      <td>0.944488</td>\n",
       "      <td>0.203893</td>\n",
       "      <td>21</td>\n",
       "      <td>2364.0</td>\n",
       "      <td>4751984.056</td>\n",
       "      <td>0.997510</td>\n",
       "    </tr>\n",
       "    <tr>\n",
       "      <th>21390</th>\n",
       "      <td>31.12.2017</td>\n",
       "      <td>S_5</td>\n",
       "      <td>RG_85</td>\n",
       "      <td>fact</td>\n",
       "      <td>56.754032</td>\n",
       "      <td>57.60</td>\n",
       "      <td>0.931793</td>\n",
       "      <td>0.284405</td>\n",
       "      <td>21</td>\n",
       "      <td>853.5</td>\n",
       "      <td>2179648.256</td>\n",
       "      <td>0.997491</td>\n",
       "    </tr>\n",
       "    <tr>\n",
       "      <th>21391</th>\n",
       "      <td>31.12.2017</td>\n",
       "      <td>S_5</td>\n",
       "      <td>RG_9</td>\n",
       "      <td>fact</td>\n",
       "      <td>69.071402</td>\n",
       "      <td>57.60</td>\n",
       "      <td>0.943235</td>\n",
       "      <td>0.206516</td>\n",
       "      <td>21</td>\n",
       "      <td>787.5</td>\n",
       "      <td>1807226.678</td>\n",
       "      <td>0.997508</td>\n",
       "    </tr>\n",
       "  </tbody>\n",
       "</table>\n",
       "<p>21392 rows × 12 columns</p>\n",
       "</div>"
      ],
      "text/plain": [
       "      report_date segment region fact_progn  tranth_tst  dollar  dol_rab_ter  \\\n",
       "0      31.01.2013     S_1   RG_1       fact   16.936794   30.03     0.919774   \n",
       "1      31.01.2013     S_1  RG_10       fact    8.372162   30.03     0.949845   \n",
       "2      31.01.2013     S_1  RG_11       fact   86.682028   30.03          NaN   \n",
       "3      31.01.2013     S_1  RG_12       fact    8.700791   30.03     0.899030   \n",
       "4      31.01.2013     S_1  RG_13       fact    4.682460   30.03     0.927184   \n",
       "...           ...     ...    ...        ...         ...     ...          ...   \n",
       "21387  31.12.2017     S_5  RG_82       fact   31.020205   57.60     0.951352   \n",
       "21388  31.12.2017     S_5  RG_83       fact   15.959186   57.60     0.945750   \n",
       "21389  31.12.2017     S_5  RG_84       fact   27.261878   57.60     0.944488   \n",
       "21390  31.12.2017     S_5  RG_85       fact   56.754032   57.60     0.931793   \n",
       "21391  31.12.2017     S_5   RG_9       fact   69.071402   57.60     0.943235   \n",
       "\n",
       "       dol_sn_nal  rab_dney     atm        cards     compl  \n",
       "0        0.371817        17   639.0          NaN  0.998736  \n",
       "1        0.497901        17   183.0          NaN  0.998759  \n",
       "2             NaN        17    16.5          NaN       NaN  \n",
       "3        0.502970        17   436.5          NaN  0.998721  \n",
       "4        0.502216        17   132.0          NaN  0.998742  \n",
       "...           ...       ...     ...          ...       ...  \n",
       "21387    0.217672        21   670.5  1467051.256  0.997520  \n",
       "21388    0.291780        21   817.5  1872662.200  0.997512  \n",
       "21389    0.203893        21  2364.0  4751984.056  0.997510  \n",
       "21390    0.284405        21   853.5  2179648.256  0.997491  \n",
       "21391    0.206516        21   787.5  1807226.678  0.997508  \n",
       "\n",
       "[21392 rows x 12 columns]"
      ]
     },
     "execution_count": 388,
     "metadata": {},
     "output_type": "execute_result"
    }
   ],
   "source": [
    "df"
   ]
  },
  {
   "cell_type": "code",
   "execution_count": 389,
   "metadata": {},
   "outputs": [
    {
     "data": {
      "text/plain": [
       "count    20996.000000\n",
       "mean         0.922088\n",
       "std          0.037263\n",
       "min          0.500000\n",
       "25%          0.911786\n",
       "50%          0.926640\n",
       "75%          0.943814\n",
       "max          0.985419\n",
       "Name: dol_rab_ter, dtype: float64"
      ]
     },
     "execution_count": 389,
     "metadata": {},
     "output_type": "execute_result"
    }
   ],
   "source": [
    "df.dol_rab_ter.describe()"
   ]
  },
  {
   "cell_type": "code",
   "execution_count": 390,
   "metadata": {},
   "outputs": [
    {
     "data": {
      "text/plain": [
       "<matplotlib.axes._subplots.AxesSubplot at 0x7fab9f5fa190>"
      ]
     },
     "execution_count": 390,
     "metadata": {},
     "output_type": "execute_result"
    },
    {
     "data": {
      "image/png": "[encoded data removed]",
      "text/plain": [
       "<Figure size 432x288 with 1 Axes>"
      ]
     },
     "metadata": {
      "needs_background": "light"
     },
     "output_type": "display_data"
    }
   ],
   "source": [
    "import matplotlib.pyplot as plt\n",
    "df.dol_rab_ter.plot()"
   ]
  },
  {
   "cell_type": "code",
   "execution_count": 391,
   "metadata": {},
   "outputs": [
    {
     "data": {
      "text/plain": [
       "count    20996.000000\n",
       "mean         0.365216\n",
       "std          0.077839\n",
       "min          0.175715\n",
       "25%          0.306968\n",
       "50%          0.371674\n",
       "75%          0.420640\n",
       "max          0.666667\n",
       "Name: dol_sn_nal, dtype: float64"
      ]
     },
     "execution_count": 391,
     "metadata": {},
     "output_type": "execute_result"
    }
   ],
   "source": [
    "df.dol_sn_nal.describe()"
   ]
  },
  {
   "cell_type": "code",
   "execution_count": 392,
   "metadata": {},
   "outputs": [
    {
     "data": {
      "text/plain": [
       "<matplotlib.axes._subplots.AxesSubplot at 0x7fac0d6a6d30>"
      ]
     },
     "execution_count": 392,
     "metadata": {},
     "output_type": "execute_result"
    },
    {
     "data": {
      "image/png": "[encoded data removed]",
      "text/plain": [
       "<Figure size 432x288 with 1 Axes>"
      ]
     },
     "metadata": {
      "needs_background": "light"
     },
     "output_type": "display_data"
    }
   ],
   "source": [
    "df.dol_sn_nal.plot()"
   ]
  },
  {
   "cell_type": "code",
   "execution_count": 393,
   "metadata": {},
   "outputs": [
    {
     "data": {
      "text/plain": [
       "count    21391.000000\n",
       "mean      1076.022416\n",
       "std       1143.842836\n",
       "min          7.500000\n",
       "25%        435.000000\n",
       "50%        757.500000\n",
       "75%       1333.500000\n",
       "max       8948.999999\n",
       "Name: atm, dtype: float64"
      ]
     },
     "execution_count": 393,
     "metadata": {},
     "output_type": "execute_result"
    }
   ],
   "source": [
    "df.atm.describe()"
   ]
  },
  {
   "cell_type": "code",
   "execution_count": 394,
   "metadata": {},
   "outputs": [
    {
     "data": {
      "text/plain": [
       "count    1.304100e+04\n",
       "mean     2.324073e+06\n",
       "std      2.874224e+06\n",
       "min      5.575403e+04\n",
       "25%      9.382960e+05\n",
       "50%      1.630553e+06\n",
       "75%      2.728563e+06\n",
       "max      2.702795e+07\n",
       "Name: cards, dtype: float64"
      ]
     },
     "execution_count": 394,
     "metadata": {},
     "output_type": "execute_result"
    }
   ],
   "source": [
    "df.cards.describe()"
   ]
  },
  {
   "cell_type": "code",
   "execution_count": 395,
   "metadata": {},
   "outputs": [
    {
     "data": {
      "text/plain": [
       "<matplotlib.axes._subplots.AxesSubplot at 0x7fac18eca520>"
      ]
     },
     "execution_count": 395,
     "metadata": {},
     "output_type": "execute_result"
    },
    {
     "data": {
      "image/png": "[encoded data removed]",
      "text/plain": [
       "<Figure size 432x288 with 1 Axes>"
      ]
     },
     "metadata": {
      "needs_background": "light"
     },
     "output_type": "display_data"
    }
   ],
   "source": [
    "df.cards.plot()"
   ]
  },
  {
   "cell_type": "code",
   "execution_count": 396,
   "metadata": {},
   "outputs": [
    {
     "data": {
      "text/plain": [
       "count    20996.000000\n",
       "mean         0.998731\n",
       "std          0.000882\n",
       "min          0.996843\n",
       "25%          0.997516\n",
       "50%          0.998760\n",
       "75%          0.999383\n",
       "max          0.999696\n",
       "Name: compl, dtype: float64"
      ]
     },
     "execution_count": 396,
     "metadata": {},
     "output_type": "execute_result"
    }
   ],
   "source": [
    "df.compl.describe()"
   ]
  },
  {
   "cell_type": "code",
   "execution_count": 397,
   "metadata": {},
   "outputs": [
    {
     "data": {
      "text/plain": [
       "report_date    0\n",
       "segment        0\n",
       "region         0\n",
       "fact_progn     0\n",
       "tranth_tst     0\n",
       "dollar         0\n",
       "dol_rab_ter    0\n",
       "dol_sn_nal     0\n",
       "rab_dney       0\n",
       "atm            0\n",
       "cards          0\n",
       "compl          0\n",
       "dtype: int64"
      ]
     },
     "execution_count": 397,
     "metadata": {},
     "output_type": "execute_result"
    }
   ],
   "source": [
    "drt_mean = df.dol_rab_ter.mean()\n",
    "dsn_mean = df.dol_sn_nal.mean()\n",
    "atm_mean = df.atm.mean()\n",
    "car_mean = df.cards.mean()\n",
    "com_mean = df.compl.mean()\n",
    "df_new = df.fillna({'dollar':75.09,'dol_rab_ter':drt_mean, 'dol_sn_nal':dsn_mean, 'atm':atm_mean,\n",
    "                    'cards':car_mean,'compl':com_mean})\n",
    "df_new.isnull().sum()"
   ]
  },
  {
   "cell_type": "code",
   "execution_count": 398,
   "metadata": {},
   "outputs": [],
   "source": [
    "df_new['report_date'] = pd.to_datetime(df['report_date'])"
   ]
  },
  {
   "cell_type": "code",
   "execution_count": 428,
   "metadata": {},
   "outputs": [],
   "source": [
    "df_by_report_date = df_new.groupby('report_date').sum()"
   ]
  },
  {
   "cell_type": "code",
   "execution_count": 433,
   "metadata": {},
   "outputs": [
    {
     "data": {
      "text/plain": [
       "<matplotlib.axes._subplots.AxesSubplot at 0x7fab3f2e37c0>"
      ]
     },
     "execution_count": 433,
     "metadata": {},
     "output_type": "execute_result"
    },
    {
     "data": {
      "image/png": "[encoded data removed]",
      "text/plain": [
       "<Figure size 432x288 with 1 Axes>"
      ]
     },
     "metadata": {
      "needs_background": "light"
     },
     "output_type": "display_data"
    }
   ],
   "source": [
    "df_by_report_date['2015-01-01':'2016-01-01'].tranth_tst.plot()"
   ]
  },
  {
   "cell_type": "code",
   "execution_count": 400,
   "metadata": {},
   "outputs": [],
   "source": [
    "df_new = df_new.set_index('report_date')"
   ]
  },
  {
   "cell_type": "code",
   "execution_count": 401,
   "metadata": {},
   "outputs": [
    {
     "name": "stdout",
     "output_type": "stream",
     "text": [
      "<class 'pandas.core.frame.DataFrame'>\n",
      "DatetimeIndex: 21392 entries, 2013-01-31 to 2017-12-31\n",
      "Data columns (total 11 columns):\n",
      " #   Column       Non-Null Count  Dtype  \n",
      "---  ------       --------------  -----  \n",
      " 0   segment      21392 non-null  object \n",
      " 1   region       21392 non-null  object \n",
      " 2   fact_progn   21392 non-null  object \n",
      " 3   tranth_tst   21392 non-null  float64\n",
      " 4   dollar       21392 non-null  float64\n",
      " 5   dol_rab_ter  21392 non-null  float64\n",
      " 6   dol_sn_nal   21392 non-null  float64\n",
      " 7   rab_dney     21392 non-null  int64  \n",
      " 8   atm          21392 non-null  float64\n",
      " 9   cards        21392 non-null  float64\n",
      " 10  compl        21392 non-null  float64\n",
      "dtypes: float64(7), int64(1), object(3)\n",
      "memory usage: 2.0+ MB\n"
     ]
    }
   ],
   "source": [
    "df_new.info()"
   ]
  },
  {
   "cell_type": "code",
   "execution_count": 402,
   "metadata": {},
   "outputs": [],
   "source": [
    "df_new_transformed = pd.get_dummies(df_new, columns=['segment', 'region', 'fact_progn'])"
   ]
  },
  {
   "cell_type": "code",
   "execution_count": 403,
   "metadata": {},
   "outputs": [
    {
     "data": {
      "text/html": [
       "<div>\n",
       "<style scoped>\n",
       "    .dataframe tbody tr th:only-of-type {\n",
       "        vertical-align: middle;\n",
       "    }\n",
       "\n",
       "    .dataframe tbody tr th {\n",
       "        vertical-align: top;\n",
       "    }\n",
       "\n",
       "    .dataframe thead th {\n",
       "        text-align: right;\n",
       "    }\n",
       "</style>\n",
       "<table border=\"1\" class=\"dataframe\">\n",
       "  <thead>\n",
       "    <tr style=\"text-align: right;\">\n",
       "      <th></th>\n",
       "      <th>tranth_tst</th>\n",
       "      <th>dollar</th>\n",
       "      <th>dol_rab_ter</th>\n",
       "      <th>dol_sn_nal</th>\n",
       "      <th>rab_dney</th>\n",
       "      <th>atm</th>\n",
       "      <th>cards</th>\n",
       "      <th>compl</th>\n",
       "      <th>segment_S_1</th>\n",
       "      <th>segment_S_2</th>\n",
       "      <th>...</th>\n",
       "      <th>region_RG_79</th>\n",
       "      <th>region_RG_8</th>\n",
       "      <th>region_RG_80</th>\n",
       "      <th>region_RG_81</th>\n",
       "      <th>region_RG_82</th>\n",
       "      <th>region_RG_83</th>\n",
       "      <th>region_RG_84</th>\n",
       "      <th>region_RG_85</th>\n",
       "      <th>region_RG_9</th>\n",
       "      <th>fact_progn_fact</th>\n",
       "    </tr>\n",
       "    <tr>\n",
       "      <th>report_date</th>\n",
       "      <th></th>\n",
       "      <th></th>\n",
       "      <th></th>\n",
       "      <th></th>\n",
       "      <th></th>\n",
       "      <th></th>\n",
       "      <th></th>\n",
       "      <th></th>\n",
       "      <th></th>\n",
       "      <th></th>\n",
       "      <th></th>\n",
       "      <th></th>\n",
       "      <th></th>\n",
       "      <th></th>\n",
       "      <th></th>\n",
       "      <th></th>\n",
       "      <th></th>\n",
       "      <th></th>\n",
       "      <th></th>\n",
       "      <th></th>\n",
       "      <th></th>\n",
       "    </tr>\n",
       "  </thead>\n",
       "  <tbody>\n",
       "    <tr>\n",
       "      <th>2013-01-31</th>\n",
       "      <td>16.936794</td>\n",
       "      <td>30.03</td>\n",
       "      <td>0.919774</td>\n",
       "      <td>0.371817</td>\n",
       "      <td>17</td>\n",
       "      <td>639.0</td>\n",
       "      <td>2.324073e+06</td>\n",
       "      <td>0.998736</td>\n",
       "      <td>1</td>\n",
       "      <td>0</td>\n",
       "      <td>...</td>\n",
       "      <td>0</td>\n",
       "      <td>0</td>\n",
       "      <td>0</td>\n",
       "      <td>0</td>\n",
       "      <td>0</td>\n",
       "      <td>0</td>\n",
       "      <td>0</td>\n",
       "      <td>0</td>\n",
       "      <td>0</td>\n",
       "      <td>1</td>\n",
       "    </tr>\n",
       "    <tr>\n",
       "      <th>2013-01-31</th>\n",
       "      <td>8.372162</td>\n",
       "      <td>30.03</td>\n",
       "      <td>0.949845</td>\n",
       "      <td>0.497901</td>\n",
       "      <td>17</td>\n",
       "      <td>183.0</td>\n",
       "      <td>2.324073e+06</td>\n",
       "      <td>0.998759</td>\n",
       "      <td>1</td>\n",
       "      <td>0</td>\n",
       "      <td>...</td>\n",
       "      <td>0</td>\n",
       "      <td>0</td>\n",
       "      <td>0</td>\n",
       "      <td>0</td>\n",
       "      <td>0</td>\n",
       "      <td>0</td>\n",
       "      <td>0</td>\n",
       "      <td>0</td>\n",
       "      <td>0</td>\n",
       "      <td>1</td>\n",
       "    </tr>\n",
       "    <tr>\n",
       "      <th>2013-01-31</th>\n",
       "      <td>86.682028</td>\n",
       "      <td>30.03</td>\n",
       "      <td>0.922088</td>\n",
       "      <td>0.365216</td>\n",
       "      <td>17</td>\n",
       "      <td>16.5</td>\n",
       "      <td>2.324073e+06</td>\n",
       "      <td>0.998731</td>\n",
       "      <td>1</td>\n",
       "      <td>0</td>\n",
       "      <td>...</td>\n",
       "      <td>0</td>\n",
       "      <td>0</td>\n",
       "      <td>0</td>\n",
       "      <td>0</td>\n",
       "      <td>0</td>\n",
       "      <td>0</td>\n",
       "      <td>0</td>\n",
       "      <td>0</td>\n",
       "      <td>0</td>\n",
       "      <td>1</td>\n",
       "    </tr>\n",
       "    <tr>\n",
       "      <th>2013-01-31</th>\n",
       "      <td>8.700791</td>\n",
       "      <td>30.03</td>\n",
       "      <td>0.899030</td>\n",
       "      <td>0.502970</td>\n",
       "      <td>17</td>\n",
       "      <td>436.5</td>\n",
       "      <td>2.324073e+06</td>\n",
       "      <td>0.998721</td>\n",
       "      <td>1</td>\n",
       "      <td>0</td>\n",
       "      <td>...</td>\n",
       "      <td>0</td>\n",
       "      <td>0</td>\n",
       "      <td>0</td>\n",
       "      <td>0</td>\n",
       "      <td>0</td>\n",
       "      <td>0</td>\n",
       "      <td>0</td>\n",
       "      <td>0</td>\n",
       "      <td>0</td>\n",
       "      <td>1</td>\n",
       "    </tr>\n",
       "    <tr>\n",
       "      <th>2013-01-31</th>\n",
       "      <td>4.682460</td>\n",
       "      <td>30.03</td>\n",
       "      <td>0.927184</td>\n",
       "      <td>0.502216</td>\n",
       "      <td>17</td>\n",
       "      <td>132.0</td>\n",
       "      <td>2.324073e+06</td>\n",
       "      <td>0.998742</td>\n",
       "      <td>1</td>\n",
       "      <td>0</td>\n",
       "      <td>...</td>\n",
       "      <td>0</td>\n",
       "      <td>0</td>\n",
       "      <td>0</td>\n",
       "      <td>0</td>\n",
       "      <td>0</td>\n",
       "      <td>0</td>\n",
       "      <td>0</td>\n",
       "      <td>0</td>\n",
       "      <td>0</td>\n",
       "      <td>1</td>\n",
       "    </tr>\n",
       "    <tr>\n",
       "      <th>...</th>\n",
       "      <td>...</td>\n",
       "      <td>...</td>\n",
       "      <td>...</td>\n",
       "      <td>...</td>\n",
       "      <td>...</td>\n",
       "      <td>...</td>\n",
       "      <td>...</td>\n",
       "      <td>...</td>\n",
       "      <td>...</td>\n",
       "      <td>...</td>\n",
       "      <td>...</td>\n",
       "      <td>...</td>\n",
       "      <td>...</td>\n",
       "      <td>...</td>\n",
       "      <td>...</td>\n",
       "      <td>...</td>\n",
       "      <td>...</td>\n",
       "      <td>...</td>\n",
       "      <td>...</td>\n",
       "      <td>...</td>\n",
       "      <td>...</td>\n",
       "    </tr>\n",
       "    <tr>\n",
       "      <th>2017-12-31</th>\n",
       "      <td>31.020205</td>\n",
       "      <td>57.60</td>\n",
       "      <td>0.951352</td>\n",
       "      <td>0.217672</td>\n",
       "      <td>21</td>\n",
       "      <td>670.5</td>\n",
       "      <td>1.467051e+06</td>\n",
       "      <td>0.997520</td>\n",
       "      <td>0</td>\n",
       "      <td>0</td>\n",
       "      <td>...</td>\n",
       "      <td>0</td>\n",
       "      <td>0</td>\n",
       "      <td>0</td>\n",
       "      <td>0</td>\n",
       "      <td>1</td>\n",
       "      <td>0</td>\n",
       "      <td>0</td>\n",
       "      <td>0</td>\n",
       "      <td>0</td>\n",
       "      <td>1</td>\n",
       "    </tr>\n",
       "    <tr>\n",
       "      <th>2017-12-31</th>\n",
       "      <td>15.959186</td>\n",
       "      <td>57.60</td>\n",
       "      <td>0.945750</td>\n",
       "      <td>0.291780</td>\n",
       "      <td>21</td>\n",
       "      <td>817.5</td>\n",
       "      <td>1.872662e+06</td>\n",
       "      <td>0.997512</td>\n",
       "      <td>0</td>\n",
       "      <td>0</td>\n",
       "      <td>...</td>\n",
       "      <td>0</td>\n",
       "      <td>0</td>\n",
       "      <td>0</td>\n",
       "      <td>0</td>\n",
       "      <td>0</td>\n",
       "      <td>1</td>\n",
       "      <td>0</td>\n",
       "      <td>0</td>\n",
       "      <td>0</td>\n",
       "      <td>1</td>\n",
       "    </tr>\n",
       "    <tr>\n",
       "      <th>2017-12-31</th>\n",
       "      <td>27.261878</td>\n",
       "      <td>57.60</td>\n",
       "      <td>0.944488</td>\n",
       "      <td>0.203893</td>\n",
       "      <td>21</td>\n",
       "      <td>2364.0</td>\n",
       "      <td>4.751984e+06</td>\n",
       "      <td>0.997510</td>\n",
       "      <td>0</td>\n",
       "      <td>0</td>\n",
       "      <td>...</td>\n",
       "      <td>0</td>\n",
       "      <td>0</td>\n",
       "      <td>0</td>\n",
       "      <td>0</td>\n",
       "      <td>0</td>\n",
       "      <td>0</td>\n",
       "      <td>1</td>\n",
       "      <td>0</td>\n",
       "      <td>0</td>\n",
       "      <td>1</td>\n",
       "    </tr>\n",
       "    <tr>\n",
       "      <th>2017-12-31</th>\n",
       "      <td>56.754032</td>\n",
       "      <td>57.60</td>\n",
       "      <td>0.931793</td>\n",
       "      <td>0.284405</td>\n",
       "      <td>21</td>\n",
       "      <td>853.5</td>\n",
       "      <td>2.179648e+06</td>\n",
       "      <td>0.997491</td>\n",
       "      <td>0</td>\n",
       "      <td>0</td>\n",
       "      <td>...</td>\n",
       "      <td>0</td>\n",
       "      <td>0</td>\n",
       "      <td>0</td>\n",
       "      <td>0</td>\n",
       "      <td>0</td>\n",
       "      <td>0</td>\n",
       "      <td>0</td>\n",
       "      <td>1</td>\n",
       "      <td>0</td>\n",
       "      <td>1</td>\n",
       "    </tr>\n",
       "    <tr>\n",
       "      <th>2017-12-31</th>\n",
       "      <td>69.071402</td>\n",
       "      <td>57.60</td>\n",
       "      <td>0.943235</td>\n",
       "      <td>0.206516</td>\n",
       "      <td>21</td>\n",
       "      <td>787.5</td>\n",
       "      <td>1.807227e+06</td>\n",
       "      <td>0.997508</td>\n",
       "      <td>0</td>\n",
       "      <td>0</td>\n",
       "      <td>...</td>\n",
       "      <td>0</td>\n",
       "      <td>0</td>\n",
       "      <td>0</td>\n",
       "      <td>0</td>\n",
       "      <td>0</td>\n",
       "      <td>0</td>\n",
       "      <td>0</td>\n",
       "      <td>0</td>\n",
       "      <td>1</td>\n",
       "      <td>1</td>\n",
       "    </tr>\n",
       "  </tbody>\n",
       "</table>\n",
       "<p>21392 rows × 99 columns</p>\n",
       "</div>"
      ],
      "text/plain": [
       "             tranth_tst  dollar  dol_rab_ter  dol_sn_nal  rab_dney     atm  \\\n",
       "report_date                                                                  \n",
       "2013-01-31    16.936794   30.03     0.919774    0.371817        17   639.0   \n",
       "2013-01-31     8.372162   30.03     0.949845    0.497901        17   183.0   \n",
       "2013-01-31    86.682028   30.03     0.922088    0.365216        17    16.5   \n",
       "2013-01-31     8.700791   30.03     0.899030    0.502970        17   436.5   \n",
       "2013-01-31     4.682460   30.03     0.927184    0.502216        17   132.0   \n",
       "...                 ...     ...          ...         ...       ...     ...   \n",
       "2017-12-31    31.020205   57.60     0.951352    0.217672        21   670.5   \n",
       "2017-12-31    15.959186   57.60     0.945750    0.291780        21   817.5   \n",
       "2017-12-31    27.261878   57.60     0.944488    0.203893        21  2364.0   \n",
       "2017-12-31    56.754032   57.60     0.931793    0.284405        21   853.5   \n",
       "2017-12-31    69.071402   57.60     0.943235    0.206516        21   787.5   \n",
       "\n",
       "                    cards     compl  segment_S_1  segment_S_2  ...  \\\n",
       "report_date                                                    ...   \n",
       "2013-01-31   2.324073e+06  0.998736            1            0  ...   \n",
       "2013-01-31   2.324073e+06  0.998759            1            0  ...   \n",
       "2013-01-31   2.324073e+06  0.998731            1            0  ...   \n",
       "2013-01-31   2.324073e+06  0.998721            1            0  ...   \n",
       "2013-01-31   2.324073e+06  0.998742            1            0  ...   \n",
       "...                   ...       ...          ...          ...  ...   \n",
       "2017-12-31   1.467051e+06  0.997520            0            0  ...   \n",
       "2017-12-31   1.872662e+06  0.997512            0            0  ...   \n",
       "2017-12-31   4.751984e+06  0.997510            0            0  ...   \n",
       "2017-12-31   2.179648e+06  0.997491            0            0  ...   \n",
       "2017-12-31   1.807227e+06  0.997508            0            0  ...   \n",
       "\n",
       "             region_RG_79  region_RG_8  region_RG_80  region_RG_81  \\\n",
       "report_date                                                          \n",
       "2013-01-31              0            0             0             0   \n",
       "2013-01-31              0            0             0             0   \n",
       "2013-01-31              0            0             0             0   \n",
       "2013-01-31              0            0             0             0   \n",
       "2013-01-31              0            0             0             0   \n",
       "...                   ...          ...           ...           ...   \n",
       "2017-12-31              0            0             0             0   \n",
       "2017-12-31              0            0             0             0   \n",
       "2017-12-31              0            0             0             0   \n",
       "2017-12-31              0            0             0             0   \n",
       "2017-12-31              0            0             0             0   \n",
       "\n",
       "             region_RG_82  region_RG_83  region_RG_84  region_RG_85  \\\n",
       "report_date                                                           \n",
       "2013-01-31              0             0             0             0   \n",
       "2013-01-31              0             0             0             0   \n",
       "2013-01-31              0             0             0             0   \n",
       "2013-01-31              0             0             0             0   \n",
       "2013-01-31              0             0             0             0   \n",
       "...                   ...           ...           ...           ...   \n",
       "2017-12-31              1             0             0             0   \n",
       "2017-12-31              0             1             0             0   \n",
       "2017-12-31              0             0             1             0   \n",
       "2017-12-31              0             0             0             1   \n",
       "2017-12-31              0             0             0             0   \n",
       "\n",
       "             region_RG_9  fact_progn_fact  \n",
       "report_date                                \n",
       "2013-01-31             0                1  \n",
       "2013-01-31             0                1  \n",
       "2013-01-31             0                1  \n",
       "2013-01-31             0                1  \n",
       "2013-01-31             0                1  \n",
       "...                  ...              ...  \n",
       "2017-12-31             0                1  \n",
       "2017-12-31             0                1  \n",
       "2017-12-31             0                1  \n",
       "2017-12-31             0                1  \n",
       "2017-12-31             1                1  \n",
       "\n",
       "[21392 rows x 99 columns]"
      ]
     },
     "execution_count": 403,
     "metadata": {},
     "output_type": "execute_result"
    }
   ],
   "source": [
    "df_new_transformed"
   ]
  },
  {
   "cell_type": "code",
   "execution_count": 404,
   "metadata": {},
   "outputs": [],
   "source": [
    "#X0 = df_new_transformed.drop('report_date', axis=1)\n",
    "X = df_new_transformed.drop('tranth_tst', axis=1) # Данные, на основе которых мы хотим научиться делать предсказание (признаки)\n",
    "y = df_new_transformed.tranth_tst # То, что мы пытаемся предсказать (целевая переменная)"
   ]
  },
  {
   "cell_type": "code",
   "execution_count": 405,
   "metadata": {},
   "outputs": [
    {
     "name": "stdout",
     "output_type": "stream",
     "text": [
      "<class 'pandas.core.frame.DataFrame'>\n",
      "DatetimeIndex: 21392 entries, 2013-01-31 to 2017-12-31\n",
      "Data columns (total 98 columns):\n",
      " #   Column           Non-Null Count  Dtype  \n",
      "---  ------           --------------  -----  \n",
      " 0   dollar           21392 non-null  float64\n",
      " 1   dol_rab_ter      21392 non-null  float64\n",
      " 2   dol_sn_nal       21392 non-null  float64\n",
      " 3   rab_dney         21392 non-null  int64  \n",
      " 4   atm              21392 non-null  float64\n",
      " 5   cards            21392 non-null  float64\n",
      " 6   compl            21392 non-null  float64\n",
      " 7   segment_S_1      21392 non-null  uint8  \n",
      " 8   segment_S_2      21392 non-null  uint8  \n",
      " 9   segment_S_3      21392 non-null  uint8  \n",
      " 10  segment_S_4      21392 non-null  uint8  \n",
      " 11  segment_S_5      21392 non-null  uint8  \n",
      " 12  region_RG_1      21392 non-null  uint8  \n",
      " 13  region_RG_10     21392 non-null  uint8  \n",
      " 14  region_RG_11     21392 non-null  uint8  \n",
      " 15  region_RG_12     21392 non-null  uint8  \n",
      " 16  region_RG_13     21392 non-null  uint8  \n",
      " 17  region_RG_14     21392 non-null  uint8  \n",
      " 18  region_RG_15     21392 non-null  uint8  \n",
      " 19  region_RG_16     21392 non-null  uint8  \n",
      " 20  region_RG_17     21392 non-null  uint8  \n",
      " 21  region_RG_18     21392 non-null  uint8  \n",
      " 22  region_RG_19     21392 non-null  uint8  \n",
      " 23  region_RG_2      21392 non-null  uint8  \n",
      " 24  region_RG_20     21392 non-null  uint8  \n",
      " 25  region_RG_21     21392 non-null  uint8  \n",
      " 26  region_RG_22     21392 non-null  uint8  \n",
      " 27  region_RG_23     21392 non-null  uint8  \n",
      " 28  region_RG_24     21392 non-null  uint8  \n",
      " 29  region_RG_25     21392 non-null  uint8  \n",
      " 30  region_RG_26     21392 non-null  uint8  \n",
      " 31  region_RG_27     21392 non-null  uint8  \n",
      " 32  region_RG_28     21392 non-null  uint8  \n",
      " 33  region_RG_29     21392 non-null  uint8  \n",
      " 34  region_RG_3      21392 non-null  uint8  \n",
      " 35  region_RG_30     21392 non-null  uint8  \n",
      " 36  region_RG_31     21392 non-null  uint8  \n",
      " 37  region_RG_32     21392 non-null  uint8  \n",
      " 38  region_RG_33     21392 non-null  uint8  \n",
      " 39  region_RG_34     21392 non-null  uint8  \n",
      " 40  region_RG_35     21392 non-null  uint8  \n",
      " 41  region_RG_36     21392 non-null  uint8  \n",
      " 42  region_RG_37     21392 non-null  uint8  \n",
      " 43  region_RG_38     21392 non-null  uint8  \n",
      " 44  region_RG_39     21392 non-null  uint8  \n",
      " 45  region_RG_4      21392 non-null  uint8  \n",
      " 46  region_RG_40     21392 non-null  uint8  \n",
      " 47  region_RG_41     21392 non-null  uint8  \n",
      " 48  region_RG_42     21392 non-null  uint8  \n",
      " 49  region_RG_43     21392 non-null  uint8  \n",
      " 50  region_RG_44     21392 non-null  uint8  \n",
      " 51  region_RG_45     21392 non-null  uint8  \n",
      " 52  region_RG_46     21392 non-null  uint8  \n",
      " 53  region_RG_47     21392 non-null  uint8  \n",
      " 54  region_RG_48     21392 non-null  uint8  \n",
      " 55  region_RG_49     21392 non-null  uint8  \n",
      " 56  region_RG_5      21392 non-null  uint8  \n",
      " 57  region_RG_50     21392 non-null  uint8  \n",
      " 58  region_RG_51     21392 non-null  uint8  \n",
      " 59  region_RG_52     21392 non-null  uint8  \n",
      " 60  region_RG_53     21392 non-null  uint8  \n",
      " 61  region_RG_54     21392 non-null  uint8  \n",
      " 62  region_RG_55     21392 non-null  uint8  \n",
      " 63  region_RG_56     21392 non-null  uint8  \n",
      " 64  region_RG_57     21392 non-null  uint8  \n",
      " 65  region_RG_58     21392 non-null  uint8  \n",
      " 66  region_RG_59     21392 non-null  uint8  \n",
      " 67  region_RG_6      21392 non-null  uint8  \n",
      " 68  region_RG_60     21392 non-null  uint8  \n",
      " 69  region_RG_61     21392 non-null  uint8  \n",
      " 70  region_RG_62     21392 non-null  uint8  \n",
      " 71  region_RG_63     21392 non-null  uint8  \n",
      " 72  region_RG_64     21392 non-null  uint8  \n",
      " 73  region_RG_65     21392 non-null  uint8  \n",
      " 74  region_RG_66     21392 non-null  uint8  \n",
      " 75  region_RG_67     21392 non-null  uint8  \n",
      " 76  region_RG_68     21392 non-null  uint8  \n",
      " 77  region_RG_69     21392 non-null  uint8  \n",
      " 78  region_RG_7      21392 non-null  uint8  \n",
      " 79  region_RG_70     21392 non-null  uint8  \n",
      " 80  region_RG_71     21392 non-null  uint8  \n",
      " 81  region_RG_72     21392 non-null  uint8  \n",
      " 82  region_RG_73     21392 non-null  uint8  \n",
      " 83  region_RG_74     21392 non-null  uint8  \n",
      " 84  region_RG_75     21392 non-null  uint8  \n",
      " 85  region_RG_76     21392 non-null  uint8  \n",
      " 86  region_RG_77     21392 non-null  uint8  \n",
      " 87  region_RG_78     21392 non-null  uint8  \n",
      " 88  region_RG_79     21392 non-null  uint8  \n",
      " 89  region_RG_8      21392 non-null  uint8  \n",
      " 90  region_RG_80     21392 non-null  uint8  \n",
      " 91  region_RG_81     21392 non-null  uint8  \n",
      " 92  region_RG_82     21392 non-null  uint8  \n",
      " 93  region_RG_83     21392 non-null  uint8  \n",
      " 94  region_RG_84     21392 non-null  uint8  \n",
      " 95  region_RG_85     21392 non-null  uint8  \n",
      " 96  region_RG_9      21392 non-null  uint8  \n",
      " 97  fact_progn_fact  21392 non-null  uint8  \n",
      "dtypes: float64(6), int64(1), uint8(91)\n",
      "memory usage: 3.2 MB\n"
     ]
    }
   ],
   "source": [
    "X.info()"
   ]
  },
  {
   "cell_type": "code",
   "execution_count": 406,
   "metadata": {},
   "outputs": [
    {
     "data": {
      "text/plain": [
       "report_date\n",
       "2013-01-31    16.936794\n",
       "2013-01-31     8.372162\n",
       "2013-01-31    86.682028\n",
       "2013-01-31     8.700791\n",
       "2013-01-31     4.682460\n",
       "                ...    \n",
       "2017-12-31    31.020205\n",
       "2017-12-31    15.959186\n",
       "2017-12-31    27.261878\n",
       "2017-12-31    56.754032\n",
       "2017-12-31    69.071402\n",
       "Name: tranth_tst, Length: 21392, dtype: float64"
      ]
     },
     "execution_count": 406,
     "metadata": {},
     "output_type": "execute_result"
    }
   ],
   "source": [
    "y"
   ]
  },
  {
   "cell_type": "code",
   "execution_count": 407,
   "metadata": {},
   "outputs": [],
   "source": [
    "import numpy as np\n",
    "from sklearn.model_selection import train_test_split"
   ]
  },
  {
   "cell_type": "code",
   "execution_count": 408,
   "metadata": {},
   "outputs": [],
   "source": [
    "#Проводим случайное разбиение данных на выборки для обучения (train) и валидации (val), по умолчанию в пропорции 0.75/0.25\n",
    "train_X, val_X, train_y, val_y = train_test_split(X, y, random_state=1)"
   ]
  },
  {
   "cell_type": "code",
   "execution_count": 409,
   "metadata": {},
   "outputs": [],
   "source": [
    "from sklearn.linear_model import ElasticNet\n",
    "from sklearn.neighbors import KNeighborsRegressor\n",
    "from sklearn.tree import DecisionTreeRegressor\n",
    "from sklearn.svm import SVR\n",
    "from sklearn.linear_model import OrthogonalMatchingPursuit\n",
    "from sklearn.linear_model import PassiveAggressiveRegressor\n",
    "from sklearn.linear_model import TheilSenRegressor\n",
    "from sklearn.model_selection import KFold\n",
    "from sklearn.model_selection import cross_val_score\n",
    "#from sklearn.pipeline import Pipeline\n",
    "#from sklearn.preprocessing import StandardScaler\n",
    "#from sklearn.preprocessing import Normalizer"
   ]
  },
  {
   "cell_type": "code",
   "execution_count": 410,
   "metadata": {},
   "outputs": [],
   "source": [
    "#from sklearn.metrics import mean_absolute_error, r2_score, median_absolute_error\n",
    "from sklearn.metrics import mean_squared_error"
   ]
  },
  {
   "cell_type": "code",
   "execution_count": 411,
   "metadata": {},
   "outputs": [],
   "source": [
    "#Вычисляет среднюю абсолютную процентную ошибку\n",
    "def mean_absolute_percentage_error(y_true, y_pred): \n",
    "    y_true, y_pred = np.array(y_true), np.array(y_pred)\n",
    "    return np.mean(np.abs((y_true - y_pred) / y_true)) * 100\n",
    "\n",
    "#Вычисляет медианную абсолютную процентную ошибку\n",
    "def median_absolute_percentage_error(y_true, y_pred): \n",
    "    y_true, y_pred = np.array(y_true), np.array(y_pred)\n",
    "    return np.median(np.abs((y_true - y_pred) / y_true)) * 100\n",
    "#Вычисляет среднюю квадратичную ошибку\n",
    "def mean_squared_error(y_true, y_pred): \n",
    "    y_true, y_pred = np.array(y_true), np.array(y_pred)\n",
    "    return np.mean((y_true - y_pred)**2)* 100\n",
    "\n",
    "#Печатает рассчитанные значения коэффициента детерминации, средней и медианной абсолютных ошибок\n",
    "def print_metrics(prediction, val_y):\n",
    "    val_mae = mean_absolute_error(val_y, prediction)\n",
    "    median_AE = median_absolute_error(val_y, prediction)\n",
    "    MSE = mean_squared_error(val_y, prediction)\n",
    "    r2 = r2_score(val_y, prediction)\n",
    "\n",
    "    print('')\n",
    "    print('R\\u00b2: {:.2}'.format(r2))\n",
    "    print('')\n",
    "    print('Средняя абсолютная ошибка: {:.3} %'.format(mean_absolute_percentage_error(val_y, prediction)))\n",
    "    print('Медианная абсолютная ошибка: {:.3} %'.format(median_absolute_percentage_error(val_y, prediction)))\n",
    "    print('Средняя квадратичная ошибка: {:.3} %'.format(mean_squared_error(val_y, prediction)))\n"
   ]
  },
  {
   "cell_type": "code",
   "execution_count": 412,
   "metadata": {},
   "outputs": [
    {
     "name": "stdout",
     "output_type": "stream",
     "text": [
      "\n",
      "R²: 0.22\n",
      "\n",
      "Средняя абсолютная ошибка: 4.27e+02 %\n",
      "Медианная абсолютная ошибка: 72.5 %\n",
      "Средняя квадратичная ошибка: 5.87e+05 %\n"
     ]
    }
   ],
   "source": [
    "en_model = ElasticNet()\n",
    "\n",
    "#Проводим подгонку модели на обучающей выборке \n",
    "en_model.fit(train_X, train_y)\n",
    "\n",
    "#Вычисляем предсказанные значения цен на основе валидационной выборки\n",
    "en_prediction = en_model.predict(val_X).round(0)\n",
    "\n",
    "#Вычисляем и печатаем величины ошибок при сравнении известных цен квартир из валидационной выборки с предсказанными моделью\n",
    "print_metrics(en_prediction, val_y)"
   ]
  },
  {
   "cell_type": "code",
   "execution_count": 413,
   "metadata": {},
   "outputs": [
    {
     "name": "stdout",
     "output_type": "stream",
     "text": [
      "\n",
      "R²: -0.019\n",
      "\n",
      "Средняя абсолютная ошибка: 4.12e+02 %\n",
      "Медианная абсолютная ошибка: 77.5 %\n",
      "Средняя квадратичная ошибка: 7.68e+05 %\n"
     ]
    }
   ],
   "source": [
    "kn_model = KNeighborsRegressor()\n",
    "\n",
    "#Проводим подгонку модели на обучающей выборке \n",
    "kn_model.fit(train_X, train_y)\n",
    "\n",
    "#Вычисляем предсказанные значения цен на основе валидационной выборки\n",
    "kn_prediction = kn_model.predict(val_X).round(0)\n",
    "\n",
    "#Вычисляем и печатаем величины ошибок при сравнении известных цен квартир из валидационной выборки с предсказанными моделью\n",
    "print_metrics(kn_prediction, val_y)"
   ]
  },
  {
   "cell_type": "code",
   "execution_count": 414,
   "metadata": {},
   "outputs": [
    {
     "name": "stdout",
     "output_type": "stream",
     "text": [
      "\n",
      "R²: 0.95\n",
      "\n",
      "Средняя абсолютная ошибка: 32.9 %\n",
      "Медианная абсолютная ошибка: 8.72 %\n",
      "Средняя квадратичная ошибка: 3.74e+04 %\n"
     ]
    }
   ],
   "source": [
    "ds_model = DecisionTreeRegressor()\n",
    "\n",
    "#Проводим подгонку модели на обучающей выборке \n",
    "ds_model.fit(train_X, train_y)\n",
    "\n",
    "#Вычисляем предсказанные значения цен на основе валидационной выборки\n",
    "ds_prediction = ds_model.predict(val_X).round(0)\n",
    "\n",
    "#Вычисляем и печатаем величины ошибок при сравнении известных цен квартир из валидационной выборки с предсказанными моделью\n",
    "print_metrics(ds_prediction, val_y)"
   ]
  },
  {
   "cell_type": "code",
   "execution_count": 415,
   "metadata": {},
   "outputs": [
    {
     "name": "stdout",
     "output_type": "stream",
     "text": [
      "\n",
      "R²: -0.15\n",
      "\n",
      "Средняя абсолютная ошибка: 2.57e+02 %\n",
      "Медианная абсолютная ошибка: 69.0 %\n",
      "Средняя квадратичная ошибка: 8.64e+05 %\n"
     ]
    }
   ],
   "source": [
    "svr_model = SVR()\n",
    "\n",
    "#Проводим подгонку модели на обучающей выборке \n",
    "svr_model.fit(train_X, train_y)\n",
    "\n",
    "#Вычисляем предсказанные значения цен на основе валидационной выборки\n",
    "svr_prediction = svr_model.predict(val_X).round(0)\n",
    "\n",
    "#Вычисляем и печатаем величины ошибок при сравнении известных цен квартир из валидационной выборки с предсказанными моделью\n",
    "print_metrics(svr_prediction, val_y)"
   ]
  },
  {
   "cell_type": "code",
   "execution_count": 416,
   "metadata": {},
   "outputs": [
    {
     "name": "stdout",
     "output_type": "stream",
     "text": [
      "\n",
      "R²: 0.5\n",
      "\n",
      "Средняя абсолютная ошибка: 2.28e+02 %\n",
      "Медианная абсолютная ошибка: 52.1 %\n",
      "Средняя квадратичная ошибка: 3.73e+05 %\n"
     ]
    }
   ],
   "source": [
    "omp_model = OrthogonalMatchingPursuit()\n",
    "\n",
    "#Проводим подгонку модели на обучающей выборке \n",
    "omp_model.fit(train_X, train_y)\n",
    "\n",
    "#Вычисляем предсказанные значения цен на основе валидационной выборки\n",
    "omp_prediction = omp_model.predict(val_X).round(0)\n",
    "\n",
    "#Вычисляем и печатаем величины ошибок при сравнении известных цен квартир из валидационной выборки с предсказанными моделью\n",
    "print_metrics(omp_prediction, val_y)"
   ]
  },
  {
   "cell_type": "code",
   "execution_count": 417,
   "metadata": {},
   "outputs": [
    {
     "name": "stdout",
     "output_type": "stream",
     "text": [
      "\n",
      "R²: -0.52\n",
      "\n",
      "Средняя абсолютная ошибка: 1.15e+02 %\n",
      "Медианная абсолютная ошибка: 83.0 %\n",
      "Средняя квадратичная ошибка: 1.15e+06 %\n"
     ]
    }
   ],
   "source": [
    "par_model = PassiveAggressiveRegressor()\n",
    "\n",
    "#Проводим подгонку модели на обучающей выборке \n",
    "par_model.fit(train_X, train_y)\n",
    "\n",
    "#Вычисляем предсказанные значения цен на основе валидационной выборки\n",
    "par_prediction = par_model.predict(val_X).round(0)\n",
    "\n",
    "#Вычисляем и печатаем величины ошибок при сравнении известных цен квартир из валидационной выборки с предсказанными моделью\n",
    "print_metrics(par_prediction, val_y)"
   ]
  },
  {
   "cell_type": "code",
   "execution_count": 418,
   "metadata": {},
   "outputs": [
    {
     "name": "stdout",
     "output_type": "stream",
     "text": [
      "\n",
      "R²: -2.4\n",
      "\n",
      "Средняя абсолютная ошибка: 1.29e+03 %\n",
      "Медианная абсолютная ошибка: 4.07e+02 %\n",
      "Средняя квадратичная ошибка: 2.56e+06 %\n"
     ]
    }
   ],
   "source": [
    "tsr_model = TheilSenRegressor()\n",
    "\n",
    "#Проводим подгонку модели на обучающей выборке \n",
    "tsr_model.fit(train_X, train_y)\n",
    "\n",
    "#Вычисляем предсказанные значения цен на основе валидационной выборки\n",
    "tsr_prediction = tsr_model.predict(val_X).round(0)\n",
    "\n",
    "#Вычисляем и печатаем величины ошибок при сравнении известных цен квартир из валидационной выборки с предсказанными моделью\n",
    "print_metrics(tsr_prediction, val_y)"
   ]
  },
  {
   "cell_type": "code",
   "execution_count": null,
   "metadata": {},
   "outputs": [],
   "source": []
  }
 ],
 "metadata": {
  "kernelspec": {
   "display_name": "Python 3",
   "language": "python",
   "name": "python3"
  },
  "language_info": {
   "codemirror_mode": {
    "name": "ipython",
    "version": 3
   },
   "file_extension": ".py",
   "mimetype": "text/x-python",
   "name": "python",
   "nbconvert_exporter": "python",
   "pygments_lexer": "ipython3",
   "version": "3.8.3"
  }
 },
 "nbformat": 4,
 "nbformat_minor": 4
}
